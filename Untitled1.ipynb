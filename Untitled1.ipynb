{
 "cells": [
  {
   "cell_type": "code",
   "execution_count": 4,
   "id": "34bbedfc-63e7-4670-921f-8edf2724a464",
   "metadata": {},
   "outputs": [],
   "source": [
    "name = \"fardEEn ahMED\""
   ]
  },
  {
   "cell_type": "code",
   "execution_count": 5,
   "id": "b374b00c-9c8d-4c31-93bc-1718f8cc54d1",
   "metadata": {},
   "outputs": [
    {
     "data": {
      "text/plain": [
       "'FARDeeN AHmed'"
      ]
     },
     "execution_count": 5,
     "metadata": {},
     "output_type": "execute_result"
    }
   ],
   "source": [
    "# convert capital to small and small to capital\n",
    "name.swapcase()"
   ]
  },
  {
   "cell_type": "code",
   "execution_count": 10,
   "id": "de547e8e-395f-4580-8fc7-1851c59d44e3",
   "metadata": {},
   "outputs": [
    {
     "data": {
      "text/plain": [
       "'fardEEn ahMED'"
      ]
     },
     "execution_count": 10,
     "metadata": {},
     "output_type": "execute_result"
    }
   ],
   "source": [
    "name"
   ]
  },
  {
   "cell_type": "code",
   "execution_count": 11,
   "id": "159a86c4-ee88-45cf-9d81-ca340be166a1",
   "metadata": {},
   "outputs": [],
   "source": [
    "# 'F@a@r@d@E@n@ @a@h@M@E@D\n"
   ]
  },
  {
   "cell_type": "code",
   "execution_count": 14,
   "id": "a0880382-2c61-493b-826b-28007c9855c3",
   "metadata": {},
   "outputs": [],
   "source": [
    "name = \"Tanushree Jadhav\""
   ]
  },
  {
   "cell_type": "code",
   "execution_count": 15,
   "id": "277393bb-831f-488b-8293-da08f6c18a2a",
   "metadata": {},
   "outputs": [],
   "source": [
    "d=453453"
   ]
  },
  {
   "cell_type": "code",
   "execution_count": 16,
   "id": "03066c8e-e790-4f05-8120-22a8672b2f60",
   "metadata": {},
   "outputs": [
    {
     "data": {
      "text/plain": [
       "True"
      ]
     },
     "execution_count": 16,
     "metadata": {},
     "output_type": "execute_result"
    }
   ],
   "source": [
    "d.is_integer()"
   ]
  },
  {
   "cell_type": "code",
   "execution_count": 17,
   "id": "a445b3ab-1033-4270-ad3f-36f2a1e8cb55",
   "metadata": {},
   "outputs": [],
   "source": [
    "name1= \"Tanushree Jadhav\""
   ]
  },
  {
   "cell_type": "code",
   "execution_count": 18,
   "id": "94222faa-0250-4332-8c8a-190ca032fb64",
   "metadata": {},
   "outputs": [
    {
     "data": {
      "text/plain": [
       "False"
      ]
     },
     "execution_count": 18,
     "metadata": {},
     "output_type": "execute_result"
    }
   ],
   "source": [
    "name.isalnum()"
   ]
  },
  {
   "cell_type": "code",
   "execution_count": 20,
   "id": "4cec116b-074a-4c0d-a40d-d5f884aa3a7d",
   "metadata": {},
   "outputs": [
    {
     "data": {
      "text/plain": [
       "True"
      ]
     },
     "execution_count": 20,
     "metadata": {},
     "output_type": "execute_result"
    }
   ],
   "source": [
    "name1.startswith('T')"
   ]
  },
  {
   "cell_type": "markdown",
   "id": "13ea4e8a-b802-4e96-943e-63e4032b2108",
   "metadata": {},
   "source": [
    "name1"
   ]
  },
  {
   "cell_type": "code",
   "execution_count": null,
   "id": "06085853-d4fc-4b5d-8cde-c43fa14f1020",
   "metadata": {},
   "outputs": [],
   "source": []
  }
 ],
 "metadata": {
  "kernelspec": {
   "display_name": "Python 3 (ipykernel)",
   "language": "python",
   "name": "python3"
  },
  "language_info": {
   "codemirror_mode": {
    "name": "ipython",
    "version": 3
   },
   "file_extension": ".py",
   "mimetype": "text/x-python",
   "name": "python",
   "nbconvert_exporter": "python",
   "pygments_lexer": "ipython3",
   "version": "3.12.4"
  }
 },
 "nbformat": 4,
 "nbformat_minor": 5
}
